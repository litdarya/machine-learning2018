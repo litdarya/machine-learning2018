{
 "cells": [
  {
   "cell_type": "code",
   "execution_count": 1,
   "metadata": {},
   "outputs": [
    {
     "name": "stderr",
     "output_type": "stream",
     "text": [
      "/usr/lib/python3.6/site-packages/sklearn/cross_validation.py:41: DeprecationWarning: This module was deprecated in version 0.18 in favor of the model_selection module into which all the refactored classes and functions are moved. Also note that the interface of the new CV iterators are different from that of this module. This module will be removed in 0.20.\n",
      "  \"This module will be removed in 0.20.\", DeprecationWarning)\n"
     ]
    }
   ],
   "source": [
    "import numpy as np\n",
    "import pandas as pd\n",
    "import xgboost\n",
    "from xgboost import XGBClassifier\n",
    "from sklearn.cross_validation import train_test_split\n",
    "from sklearn.metrics import f1_score\n",
    "from sklearn import preprocessing"
   ]
  },
  {
   "cell_type": "code",
   "execution_count": 2,
   "metadata": {},
   "outputs": [],
   "source": [
    "import sys\n",
    "sys.path.insert(0, 'basic_codes')\n",
    "\n",
    "import class_magnesium_not_drop_na #_transform_pairings\n",
    "from class_magnesium_not_drop_na import *"
   ]
  },
  {
   "cell_type": "code",
   "execution_count": 3,
   "metadata": {},
   "outputs": [],
   "source": [
    "fold = 'input_files/'\n",
    "file_train = 'train.csv'\n",
    "file_test = 'test.csv'"
   ]
  },
  {
   "cell_type": "code",
   "execution_count": 4,
   "metadata": {},
   "outputs": [],
   "source": [
    "import importlib\n",
    "importlib.reload(class_magnesium_not_drop_na)\n",
    "from class_magnesium_not_drop_na import *"
   ]
  },
  {
   "cell_type": "code",
   "execution_count": 5,
   "metadata": {},
   "outputs": [],
   "source": [
    "def load_data(filename, test=True):\n",
    "    if test:\n",
    "        data = pd.read_table(filename, sep=',').dropna()    \n",
    "    else:\n",
    "        data = pd.read_table(filename).dropna()\n",
    "        \n",
    "    data = data[~(data['chainlen']>1000)]\n",
    "\n",
    "    if ('DSSR' in data.columns):\n",
    "        data.drop('DSSR', axis=1, inplace=True)    \n",
    "    \n",
    "    features = list(deepcopy(data.columns))\n",
    "    [features.remove(column) for column in ['Id','index', 'mg', 'pdb_chain'] if column in data.columns];\n",
    "    x_test = np.array(data[features])\n",
    "    \n",
    "    try:\n",
    "        y_test = np.array(data['mg'])\n",
    "    except: \n",
    "        y_test = None\n",
    "    change_output('Data loaded')\n",
    "    return {'data':data, 'features':features, 'x':x_test, 'y':y_test}"
   ]
  },
  {
   "cell_type": "code",
   "execution_count": 6,
   "metadata": {},
   "outputs": [
    {
     "name": "stdout",
     "output_type": "stream",
     "text": [
      "Data loaded"
     ]
    },
    {
     "data": {
      "text/html": [
       "<div>\n",
       "<style scoped>\n",
       "    .dataframe tbody tr th:only-of-type {\n",
       "        vertical-align: middle;\n",
       "    }\n",
       "\n",
       "    .dataframe tbody tr th {\n",
       "        vertical-align: top;\n",
       "    }\n",
       "\n",
       "    .dataframe thead th {\n",
       "        text-align: right;\n",
       "    }\n",
       "</style>\n",
       "<table border=\"1\" class=\"dataframe\">\n",
       "  <thead>\n",
       "    <tr style=\"text-align: right;\">\n",
       "      <th></th>\n",
       "      <th>Id</th>\n",
       "      <th>index</th>\n",
       "      <th>pdb_chain</th>\n",
       "      <th>xray</th>\n",
       "      <th>resol</th>\n",
       "      <th>chainlen</th>\n",
       "      <th>protein</th>\n",
       "      <th>alpham2</th>\n",
       "      <th>betam2</th>\n",
       "      <th>gammam2</th>\n",
       "      <th>...</th>\n",
       "      <th>atomO2</th>\n",
       "      <th>atomO2p</th>\n",
       "      <th>atomO3p</th>\n",
       "      <th>atomO4</th>\n",
       "      <th>atomO4p</th>\n",
       "      <th>atomO5p</th>\n",
       "      <th>atomO6</th>\n",
       "      <th>atomOP1</th>\n",
       "      <th>atomOP2</th>\n",
       "      <th>atomOP3</th>\n",
       "    </tr>\n",
       "  </thead>\n",
       "  <tbody>\n",
       "    <tr>\n",
       "      <th>0</th>\n",
       "      <td>0</td>\n",
       "      <td>28</td>\n",
       "      <td>1feu.cif1_F</td>\n",
       "      <td>1</td>\n",
       "      <td>2.3</td>\n",
       "      <td>21</td>\n",
       "      <td>1</td>\n",
       "      <td>-73.3</td>\n",
       "      <td>174.9</td>\n",
       "      <td>53.7</td>\n",
       "      <td>...</td>\n",
       "      <td>0</td>\n",
       "      <td>0</td>\n",
       "      <td>0</td>\n",
       "      <td>0</td>\n",
       "      <td>0</td>\n",
       "      <td>0</td>\n",
       "      <td>0</td>\n",
       "      <td>1</td>\n",
       "      <td>0</td>\n",
       "      <td>0</td>\n",
       "    </tr>\n",
       "    <tr>\n",
       "      <th>1</th>\n",
       "      <td>1</td>\n",
       "      <td>29</td>\n",
       "      <td>1feu.cif1_F</td>\n",
       "      <td>1</td>\n",
       "      <td>2.3</td>\n",
       "      <td>21</td>\n",
       "      <td>1</td>\n",
       "      <td>-73.3</td>\n",
       "      <td>174.9</td>\n",
       "      <td>53.7</td>\n",
       "      <td>...</td>\n",
       "      <td>0</td>\n",
       "      <td>0</td>\n",
       "      <td>0</td>\n",
       "      <td>0</td>\n",
       "      <td>0</td>\n",
       "      <td>0</td>\n",
       "      <td>0</td>\n",
       "      <td>0</td>\n",
       "      <td>1</td>\n",
       "      <td>0</td>\n",
       "    </tr>\n",
       "    <tr>\n",
       "      <th>2</th>\n",
       "      <td>2</td>\n",
       "      <td>30</td>\n",
       "      <td>1feu.cif1_F</td>\n",
       "      <td>1</td>\n",
       "      <td>2.3</td>\n",
       "      <td>21</td>\n",
       "      <td>1</td>\n",
       "      <td>-73.3</td>\n",
       "      <td>174.9</td>\n",
       "      <td>53.7</td>\n",
       "      <td>...</td>\n",
       "      <td>0</td>\n",
       "      <td>0</td>\n",
       "      <td>0</td>\n",
       "      <td>0</td>\n",
       "      <td>0</td>\n",
       "      <td>1</td>\n",
       "      <td>0</td>\n",
       "      <td>0</td>\n",
       "      <td>0</td>\n",
       "      <td>0</td>\n",
       "    </tr>\n",
       "    <tr>\n",
       "      <th>3</th>\n",
       "      <td>3</td>\n",
       "      <td>31</td>\n",
       "      <td>1feu.cif1_F</td>\n",
       "      <td>1</td>\n",
       "      <td>2.3</td>\n",
       "      <td>21</td>\n",
       "      <td>1</td>\n",
       "      <td>-73.3</td>\n",
       "      <td>174.9</td>\n",
       "      <td>53.7</td>\n",
       "      <td>...</td>\n",
       "      <td>0</td>\n",
       "      <td>0</td>\n",
       "      <td>0</td>\n",
       "      <td>0</td>\n",
       "      <td>1</td>\n",
       "      <td>0</td>\n",
       "      <td>0</td>\n",
       "      <td>0</td>\n",
       "      <td>0</td>\n",
       "      <td>0</td>\n",
       "    </tr>\n",
       "    <tr>\n",
       "      <th>4</th>\n",
       "      <td>4</td>\n",
       "      <td>32</td>\n",
       "      <td>1feu.cif1_F</td>\n",
       "      <td>1</td>\n",
       "      <td>2.3</td>\n",
       "      <td>21</td>\n",
       "      <td>1</td>\n",
       "      <td>-73.3</td>\n",
       "      <td>174.9</td>\n",
       "      <td>53.7</td>\n",
       "      <td>...</td>\n",
       "      <td>0</td>\n",
       "      <td>0</td>\n",
       "      <td>1</td>\n",
       "      <td>0</td>\n",
       "      <td>0</td>\n",
       "      <td>0</td>\n",
       "      <td>0</td>\n",
       "      <td>0</td>\n",
       "      <td>0</td>\n",
       "      <td>0</td>\n",
       "    </tr>\n",
       "  </tbody>\n",
       "</table>\n",
       "<p>5 rows × 386 columns</p>\n",
       "</div>"
      ],
      "text/plain": [
       "   Id  index    pdb_chain  xray  resol  chainlen  protein  alpham2  betam2  \\\n",
       "0   0     28  1feu.cif1_F     1    2.3        21        1    -73.3   174.9   \n",
       "1   1     29  1feu.cif1_F     1    2.3        21        1    -73.3   174.9   \n",
       "2   2     30  1feu.cif1_F     1    2.3        21        1    -73.3   174.9   \n",
       "3   3     31  1feu.cif1_F     1    2.3        21        1    -73.3   174.9   \n",
       "4   4     32  1feu.cif1_F     1    2.3        21        1    -73.3   174.9   \n",
       "\n",
       "   gammam2   ...     atomO2  atomO2p  atomO3p  atomO4  atomO4p  atomO5p  \\\n",
       "0     53.7   ...          0        0        0       0        0        0   \n",
       "1     53.7   ...          0        0        0       0        0        0   \n",
       "2     53.7   ...          0        0        0       0        0        1   \n",
       "3     53.7   ...          0        0        0       0        1        0   \n",
       "4     53.7   ...          0        0        1       0        0        0   \n",
       "\n",
       "   atomO6  atomOP1  atomOP2  atomOP3  \n",
       "0       0        1        0        0  \n",
       "1       0        0        1        0  \n",
       "2       0        0        0        0  \n",
       "3       0        0        0        0  \n",
       "4       0        0        0        0  \n",
       "\n",
       "[5 rows x 386 columns]"
      ]
     },
     "execution_count": 6,
     "metadata": {},
     "output_type": "execute_result"
    }
   ],
   "source": [
    "test = load_data(fold+file_test, test=True)\n",
    "test['data'].head()"
   ]
  },
  {
   "cell_type": "code",
   "execution_count": 7,
   "metadata": {},
   "outputs": [
    {
     "name": "stdout",
     "output_type": "stream",
     "text": [
      "Data loaded"
     ]
    },
    {
     "data": {
      "text/html": [
       "<div>\n",
       "<style scoped>\n",
       "    .dataframe tbody tr th:only-of-type {\n",
       "        vertical-align: middle;\n",
       "    }\n",
       "\n",
       "    .dataframe tbody tr th {\n",
       "        vertical-align: top;\n",
       "    }\n",
       "\n",
       "    .dataframe thead th {\n",
       "        text-align: right;\n",
       "    }\n",
       "</style>\n",
       "<table border=\"1\" class=\"dataframe\">\n",
       "  <thead>\n",
       "    <tr style=\"text-align: right;\">\n",
       "      <th></th>\n",
       "      <th>pdb_chain</th>\n",
       "      <th>xray</th>\n",
       "      <th>resol</th>\n",
       "      <th>chainlen</th>\n",
       "      <th>protein</th>\n",
       "      <th>alpham2</th>\n",
       "      <th>betam2</th>\n",
       "      <th>gammam2</th>\n",
       "      <th>deltam2</th>\n",
       "      <th>epsilonm2</th>\n",
       "      <th>...</th>\n",
       "      <th>atomO2p</th>\n",
       "      <th>atomO3p</th>\n",
       "      <th>atomO4</th>\n",
       "      <th>atomO4p</th>\n",
       "      <th>atomO5p</th>\n",
       "      <th>atomO6</th>\n",
       "      <th>atomOP1</th>\n",
       "      <th>atomOP2</th>\n",
       "      <th>atomOP3</th>\n",
       "      <th>mg</th>\n",
       "    </tr>\n",
       "  </thead>\n",
       "  <tbody>\n",
       "    <tr>\n",
       "      <th>35</th>\n",
       "      <td>1b23.cif1_R</td>\n",
       "      <td>1</td>\n",
       "      <td>2.6</td>\n",
       "      <td>74</td>\n",
       "      <td>1</td>\n",
       "      <td>-60.0</td>\n",
       "      <td>177.7</td>\n",
       "      <td>50.4</td>\n",
       "      <td>84.8</td>\n",
       "      <td>-150.6</td>\n",
       "      <td>...</td>\n",
       "      <td>0</td>\n",
       "      <td>0</td>\n",
       "      <td>0</td>\n",
       "      <td>0</td>\n",
       "      <td>0</td>\n",
       "      <td>0</td>\n",
       "      <td>1</td>\n",
       "      <td>0</td>\n",
       "      <td>0</td>\n",
       "      <td>0</td>\n",
       "    </tr>\n",
       "    <tr>\n",
       "      <th>36</th>\n",
       "      <td>1b23.cif1_R</td>\n",
       "      <td>1</td>\n",
       "      <td>2.6</td>\n",
       "      <td>74</td>\n",
       "      <td>1</td>\n",
       "      <td>-60.0</td>\n",
       "      <td>177.7</td>\n",
       "      <td>50.4</td>\n",
       "      <td>84.8</td>\n",
       "      <td>-150.6</td>\n",
       "      <td>...</td>\n",
       "      <td>0</td>\n",
       "      <td>0</td>\n",
       "      <td>0</td>\n",
       "      <td>0</td>\n",
       "      <td>0</td>\n",
       "      <td>0</td>\n",
       "      <td>0</td>\n",
       "      <td>1</td>\n",
       "      <td>0</td>\n",
       "      <td>0</td>\n",
       "    </tr>\n",
       "    <tr>\n",
       "      <th>37</th>\n",
       "      <td>1b23.cif1_R</td>\n",
       "      <td>1</td>\n",
       "      <td>2.6</td>\n",
       "      <td>74</td>\n",
       "      <td>1</td>\n",
       "      <td>-60.0</td>\n",
       "      <td>177.7</td>\n",
       "      <td>50.4</td>\n",
       "      <td>84.8</td>\n",
       "      <td>-150.6</td>\n",
       "      <td>...</td>\n",
       "      <td>0</td>\n",
       "      <td>0</td>\n",
       "      <td>0</td>\n",
       "      <td>0</td>\n",
       "      <td>1</td>\n",
       "      <td>0</td>\n",
       "      <td>0</td>\n",
       "      <td>0</td>\n",
       "      <td>0</td>\n",
       "      <td>0</td>\n",
       "    </tr>\n",
       "    <tr>\n",
       "      <th>38</th>\n",
       "      <td>1b23.cif1_R</td>\n",
       "      <td>1</td>\n",
       "      <td>2.6</td>\n",
       "      <td>74</td>\n",
       "      <td>1</td>\n",
       "      <td>-60.0</td>\n",
       "      <td>177.7</td>\n",
       "      <td>50.4</td>\n",
       "      <td>84.8</td>\n",
       "      <td>-150.6</td>\n",
       "      <td>...</td>\n",
       "      <td>0</td>\n",
       "      <td>0</td>\n",
       "      <td>0</td>\n",
       "      <td>1</td>\n",
       "      <td>0</td>\n",
       "      <td>0</td>\n",
       "      <td>0</td>\n",
       "      <td>0</td>\n",
       "      <td>0</td>\n",
       "      <td>0</td>\n",
       "    </tr>\n",
       "    <tr>\n",
       "      <th>39</th>\n",
       "      <td>1b23.cif1_R</td>\n",
       "      <td>1</td>\n",
       "      <td>2.6</td>\n",
       "      <td>74</td>\n",
       "      <td>1</td>\n",
       "      <td>-60.0</td>\n",
       "      <td>177.7</td>\n",
       "      <td>50.4</td>\n",
       "      <td>84.8</td>\n",
       "      <td>-150.6</td>\n",
       "      <td>...</td>\n",
       "      <td>0</td>\n",
       "      <td>1</td>\n",
       "      <td>0</td>\n",
       "      <td>0</td>\n",
       "      <td>0</td>\n",
       "      <td>0</td>\n",
       "      <td>0</td>\n",
       "      <td>0</td>\n",
       "      <td>0</td>\n",
       "      <td>0</td>\n",
       "    </tr>\n",
       "  </tbody>\n",
       "</table>\n",
       "<p>5 rows × 385 columns</p>\n",
       "</div>"
      ],
      "text/plain": [
       "      pdb_chain  xray  resol  chainlen  protein  alpham2  betam2  gammam2  \\\n",
       "35  1b23.cif1_R     1    2.6        74        1    -60.0   177.7     50.4   \n",
       "36  1b23.cif1_R     1    2.6        74        1    -60.0   177.7     50.4   \n",
       "37  1b23.cif1_R     1    2.6        74        1    -60.0   177.7     50.4   \n",
       "38  1b23.cif1_R     1    2.6        74        1    -60.0   177.7     50.4   \n",
       "39  1b23.cif1_R     1    2.6        74        1    -60.0   177.7     50.4   \n",
       "\n",
       "    deltam2  epsilonm2 ...  atomO2p  atomO3p  atomO4  atomO4p  atomO5p  \\\n",
       "35     84.8     -150.6 ...        0        0       0        0        0   \n",
       "36     84.8     -150.6 ...        0        0       0        0        0   \n",
       "37     84.8     -150.6 ...        0        0       0        0        1   \n",
       "38     84.8     -150.6 ...        0        0       0        1        0   \n",
       "39     84.8     -150.6 ...        0        1       0        0        0   \n",
       "\n",
       "    atomO6  atomOP1  atomOP2  atomOP3  mg  \n",
       "35       0        1        0        0   0  \n",
       "36       0        0        1        0   0  \n",
       "37       0        0        0        0   0  \n",
       "38       0        0        0        0   0  \n",
       "39       0        0        0        0   0  \n",
       "\n",
       "[5 rows x 385 columns]"
      ]
     },
     "execution_count": 7,
     "metadata": {},
     "output_type": "execute_result"
    }
   ],
   "source": [
    "train = load_data(fold+file_train, test=False)\n",
    "train['data'].head()"
   ]
  },
  {
   "cell_type": "code",
   "execution_count": 8,
   "metadata": {},
   "outputs": [
    {
     "name": "stdout",
     "output_type": "stream",
     "text": [
      "6.369751454257007\n"
     ]
    }
   ],
   "source": [
    "unique, counts = np.unique(train['y'], return_counts=True)\n",
    "dict(zip(unique, counts))\n",
    "print(counts[0]/counts[1])"
   ]
  },
  {
   "cell_type": "code",
   "execution_count": 9,
   "metadata": {},
   "outputs": [],
   "source": [
    "# model = XGBClassifier(max_depth=5, min_child_weight=4, learning_rate=0.1, objective='binary:logistic', scale_pos_weight=5,\n",
    "#                       n_estimators=100)\n",
    "# 0.36"
   ]
  },
  {
   "cell_type": "code",
   "execution_count": 10,
   "metadata": {},
   "outputs": [],
   "source": [
    "model = XGBClassifier(max_depth=5, min_child_weight=4, learning_rate=0.1, objective='binary:logistic', scale_pos_weight=5,\n",
    "                      n_estimators=100)\n",
    "bst = model.fit(train['x'], train['y'])\n",
    "# 0.39"
   ]
  },
  {
   "cell_type": "code",
   "execution_count": 11,
   "metadata": {},
   "outputs": [
    {
     "name": "stdout",
     "output_type": "stream",
     "text": [
      "['thetap1' 'thetap' 'moietyB' 'thetapp' 'thetapm1' 'etapp1' 'splaym1'\n",
      " 'wtlen' 'resol' 'chainlen' 'SIIm1' 'SII']\n"
     ]
    }
   ],
   "source": [
    "importance = bst.feature_importances_\n",
    "ind = np.argsort(importance)\n",
    "good_ind = np.concatenate((ind[-10:], ind[:2]))\n",
    "important_features = np.array(train['features'])[good_ind]\n",
    "print(important_features)"
   ]
  },
  {
   "cell_type": "code",
   "execution_count": 13,
   "metadata": {},
   "outputs": [],
   "source": [
    "# importance = bst.feature_importances_\n",
    "# good_ind = [i for i, x in enumerate(importance) if x >= 0.01]\n",
    "# important_features = np.array(train['features'])[good_ind]\n",
    "# print(important_features)\n",
    "# 0.36"
   ]
  },
  {
   "cell_type": "code",
   "execution_count": 12,
   "metadata": {},
   "outputs": [
    {
     "name": "stderr",
     "output_type": "stream",
     "text": [
      "/usr/lib/python3.6/site-packages/sklearn/preprocessing/label.py:151: DeprecationWarning: The truth value of an empty array is ambiguous. Returning False, but in future this will result in an error. Use `array.size > 0` to check that an array is not empty.\n",
      "  if diff:\n"
     ]
    },
    {
     "name": "stdout",
     "output_type": "stream",
     "text": [
      "0.4066119691119692\n"
     ]
    },
    {
     "name": "stderr",
     "output_type": "stream",
     "text": [
      "/usr/lib/python3.6/site-packages/sklearn/preprocessing/label.py:151: DeprecationWarning: The truth value of an empty array is ambiguous. Returning False, but in future this will result in an error. Use `array.size > 0` to check that an array is not empty.\n",
      "  if diff:\n"
     ]
    },
    {
     "name": "stdout",
     "output_type": "stream",
     "text": [
      "0.4105301914580265\n",
      "0.41783345615327927\n"
     ]
    },
    {
     "name": "stderr",
     "output_type": "stream",
     "text": [
      "/usr/lib/python3.6/site-packages/sklearn/preprocessing/label.py:151: DeprecationWarning: The truth value of an empty array is ambiguous. Returning False, but in future this will result in an error. Use `array.size > 0` to check that an array is not empty.\n",
      "  if diff:\n"
     ]
    }
   ],
   "source": [
    "for k in range(3):\n",
    "    X_train, X_test, y_train, y_test = train_test_split(train['data'][important_features], train['y'], test_size=0.2)\n",
    "    X_train = np.array(X_train)\n",
    "    X_test = np.array(X_test)\n",
    "    y_train = np.array(y_train)\n",
    "    y_test = np.array(y_test)\n",
    "    \n",
    "    test_model = model.fit(X_train, y_train)\n",
    "    y_pred = test_model.predict(X_test)\n",
    "    print(f1_score(y_test, y_pred))"
   ]
  },
  {
   "cell_type": "code",
   "execution_count": 14,
   "metadata": {},
   "outputs": [],
   "source": [
    "import csv\n",
    "def print_res(res_pred):\n",
    "    with open(\"out.cvs\", \"w\") as out_f:\n",
    "        fieldnames = ['Id', 'mg']\n",
    "        writer = csv.DictWriter(out_f, fieldnames=fieldnames)\n",
    "        writer.writeheader()\n",
    "        for i, ans in enumerate(res_pred):\n",
    "            writer.writerow({'Id':i, 'mg':int(ans)})"
   ]
  },
  {
   "cell_type": "code",
   "execution_count": 15,
   "metadata": {},
   "outputs": [],
   "source": [
    "def real_predict():\n",
    "    bst = model.fit(train['data'][important_features], train['y'])\n",
    "    preds = bst.predict(test['data'][important_features])\n",
    "    return preds"
   ]
  },
  {
   "cell_type": "code",
   "execution_count": 16,
   "metadata": {},
   "outputs": [
    {
     "name": "stderr",
     "output_type": "stream",
     "text": [
      "/usr/lib/python3.6/site-packages/sklearn/preprocessing/label.py:151: DeprecationWarning: The truth value of an empty array is ambiguous. Returning False, but in future this will result in an error. Use `array.size > 0` to check that an array is not empty.\n",
      "  if diff:\n"
     ]
    }
   ],
   "source": [
    "preds = real_predict()"
   ]
  },
  {
   "cell_type": "code",
   "execution_count": 17,
   "metadata": {},
   "outputs": [
    {
     "data": {
      "text/plain": [
       "array([0, 0, 0, ..., 0, 0, 0])"
      ]
     },
     "execution_count": 17,
     "metadata": {},
     "output_type": "execute_result"
    }
   ],
   "source": [
    "preds"
   ]
  },
  {
   "cell_type": "code",
   "execution_count": 18,
   "metadata": {},
   "outputs": [],
   "source": [
    "print_res(preds)"
   ]
  },
  {
   "cell_type": "code",
   "execution_count": 19,
   "metadata": {},
   "outputs": [
    {
     "data": {
      "text/plain": [
       "0.12138442521631644"
      ]
     },
     "execution_count": 19,
     "metadata": {},
     "output_type": "execute_result"
    }
   ],
   "source": [
    "np.mean(preds)"
   ]
  },
  {
   "cell_type": "code",
   "execution_count": 20,
   "metadata": {},
   "outputs": [
    {
     "data": {
      "text/plain": [
       "7.238289205702648"
      ]
     },
     "execution_count": 20,
     "metadata": {},
     "output_type": "execute_result"
    }
   ],
   "source": [
    "unique, counts = np.unique(preds, return_counts=True)\n",
    "dict(zip(unique, counts))\n",
    "counts[0]/counts[1]"
   ]
  },
  {
   "cell_type": "code",
   "execution_count": null,
   "metadata": {},
   "outputs": [],
   "source": []
  }
 ],
 "metadata": {
  "kernelspec": {
   "display_name": "Python 3",
   "language": "python",
   "name": "python3"
  },
  "language_info": {
   "codemirror_mode": {
    "name": "ipython",
    "version": 3
   },
   "file_extension": ".py",
   "mimetype": "text/x-python",
   "name": "python",
   "nbconvert_exporter": "python",
   "pygments_lexer": "ipython3",
   "version": "3.6.4"
  }
 },
 "nbformat": 4,
 "nbformat_minor": 2
}
